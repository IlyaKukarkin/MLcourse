{
 "cells": [
  {
   "cell_type": "code",
   "execution_count": 5,
   "metadata": {},
   "outputs": [],
   "source": [
    "#Импорт моудлей\n",
    "import pandas as pd\n",
    "import datetime as dt\n"
   ]
  },
  {
   "cell_type": "code",
   "execution_count": 6,
   "metadata": {},
   "outputs": [],
   "source": [
    "from sklearn.model_selection import train_test_split\n",
    "from sklearn.linear_model import LogisticRegression\n",
    "from sklearn.metrics import classification_report\n",
    "from sklearn.neighbors import KNeighborsClassifier"
   ]
  },
  {
   "cell_type": "code",
   "execution_count": 7,
   "metadata": {},
   "outputs": [],
   "source": [
    "#Импорт данных\n",
    "data = pd.read_csv('casc-resto.csv', sep=';', decimal='.', dtype='str')\n",
    "dataConst = pd.read_csv('CASC_Constant.csv', sep=',', decimal='.', dtype='str')"
   ]
  },
  {
   "cell_type": "code",
   "execution_count": 8,
   "metadata": {},
   "outputs": [],
   "source": [
    "#Привести колонку к типу данных datetime\n",
    "data['RKDate'] = pd.to_datetime(data['RKDate'])"
   ]
  },
  {
   "cell_type": "code",
   "execution_count": 6,
   "metadata": {},
   "outputs": [],
   "source": [
    "#Объявить константы\n",
    "START_DATE = dt.datetime(2017, 7, 1)\n",
    "END_DATE = dt.datetime(2017, 12, 31)\n",
    "#Дата между\n",
    "data['Visited'] = (data['RKDate'] <= END_DATE) & (data['RKDate'] > START_DATE)\n",
    "customers = data.groupby(['CustomerID'])\n",
    "# Пустой датафрейм\n",
    "df = pd.DataFrame(columns=['CustomerID', 'Visited', 'Recency', 'Frequency', 'Monetary Value', 'Mean Saved'])"
   ]
  },
  {
   "cell_type": "code",
   "execution_count": 13,
   "metadata": {},
   "outputs": [],
   "source": [
    "#Перебор групп customerid\n",
    "for state, frame in customers:\n",
    "    dates = frame[frame['RKDate'] < START_DATE]\n",
    "    if not dates.empty:\n",
    "        #Дни между полседним визитом и 2017.07.01\n",
    "        recency = START_DATE - max(dates['RKDate'])\n",
    "        recency = recency.days\n",
    "        #частота\n",
    "        frequency = dates.shape[0] / ((START_DATE - min(dates['RKDate'])).days/30)\n",
    "        #Средняя сумма\n",
    "        monetaryValue = dates['SummBasic'].mean()\n",
    "        #Средняя сумма сохраненных денег\n",
    "        meanSaved = (dates['SummBasic'] - dates['SummAfterPointsUsage']).mean()\n",
    "        #Добавить строку в датафрейм\n",
    "        df = df.append(\n",
    "            {'CustomerID': state, 'Visited': int(frame['Visited'].any()), 'Recency': recency, 'Frequency': frequency,\n",
    "             'Monetary Value': monetaryValue, 'Mean Saved': meanSaved}, ignore_index=True)"
   ]
  },
  {
   "cell_type": "code",
   "execution_count": 14,
   "metadata": {},
   "outputs": [],
   "source": [
    "#Изменить имя колонки\n",
    "dataConst.rename(columns={'CustomerId': 'CustomerID'}, inplace=True)\n",
    "#Объеденить датафреймы\n",
    "merged = pd.merge(df, dataConst, on='CustomerID')\n",
    "#Удлить ненужное\n",
    "merged = merged.drop(columns=['ActivationDate', 'SubscribedEmail', 'SubscribedPush'])\n",
    "merged = merged.dropna()"
   ]
  },
  {
   "cell_type": "code",
   "execution_count": 15,
   "metadata": {},
   "outputs": [],
   "source": [
    "#Привести к инт\n",
    "merged['Visited'] = merged['Visited'].astype(int)\n",
    "y = merged['Visited']\n",
    "merged = merged.drop(columns=['Visited'])\n",
    "#Привести к инт\n",
    "merged['Age'] = merged['Age'].astype(int)\n",
    "merged['Sex'] = (merged['Sex'] == 'Female').astype(int)"
   ]
  },
  {
   "cell_type": "code",
   "execution_count": 16,
   "metadata": {},
   "outputs": [],
   "source": [
    "#Разделить выборки на тестовую и тренировочную\n",
    "X_train, X_test, y_train, y_test = train_test_split(merged, y, test_size=0.2)\n",
    "#Экземпляр LogReg\n",
    "logreg = LogisticRegression()"
   ]
  },
  {
   "cell_type": "code",
   "execution_count": 17,
   "metadata": {},
   "outputs": [
    {
     "name": "stdout",
     "output_type": "stream",
     "text": [
      "[1 0 1 ... 1 1 1]\n"
     ]
    }
   ],
   "source": [
    "#Подставить данные\n",
    "logreg.fit(X_train, y_train)\n",
    "#Предасказать y\n",
    "y_pred = logreg.predict(X_test)\n",
    "print(y_pred)"
   ]
  },
  {
   "cell_type": "code",
   "execution_count": 18,
   "metadata": {},
   "outputs": [
    {
     "name": "stdout",
     "output_type": "stream",
     "text": [
      "0.7355113636363636\n",
      "0.7392045454545455\n"
     ]
    }
   ],
   "source": [
    "#Оценка качетва предсказания\n",
    "scoreTrain = logreg.score(X_train, y_train)\n",
    "print(scoreTrain)\n",
    "score = logreg.score(X_test, y_test)\n",
    "print(score)"
   ]
  },
  {
   "cell_type": "code",
   "execution_count": 19,
   "metadata": {},
   "outputs": [
    {
     "name": "stdout",
     "output_type": "stream",
     "text": [
      "              precision    recall  f1-score   support\n",
      "\n",
      "           0       0.70      0.73      0.72       935\n",
      "           1       0.68      0.64      0.66       825\n",
      "\n",
      "    accuracy                           0.69      1760\n",
      "   macro avg       0.69      0.69      0.69      1760\n",
      "weighted avg       0.69      0.69      0.69      1760\n",
      "\n"
     ]
    }
   ],
   "source": [
    "# оценка показателей precision и recall\n",
    "knn = KNeighborsClassifier(n_neighbors=8)\n",
    "knn.fit(X_train, y_train)\n",
    "y_pred = knn.predict(X_test)\n",
    "print(classification_report(y_test, y_pred))"
   ]
  },
  {
   "cell_type": "code",
   "execution_count": null,
   "metadata": {},
   "outputs": [],
   "source": []
  }
 ],
 "metadata": {
  "kernelspec": {
   "display_name": "Python 3",
   "language": "python",
   "name": "python3"
  },
  "language_info": {
   "codemirror_mode": {
    "name": "ipython",
    "version": 3
   },
   "file_extension": ".py",
   "mimetype": "text/x-python",
   "name": "python",
   "nbconvert_exporter": "python",
   "pygments_lexer": "ipython3",
   "version": "3.7.2"
  }
 },
 "nbformat": 4,
 "nbformat_minor": 4
}
